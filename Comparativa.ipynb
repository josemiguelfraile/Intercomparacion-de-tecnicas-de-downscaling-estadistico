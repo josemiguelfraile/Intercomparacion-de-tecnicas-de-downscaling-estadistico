{
 "cells": [
  {
   "cell_type": "markdown",
   "id": "704885be",
   "metadata": {},
   "source": [
    "# Comparación de Subsets"
   ]
  },
  {
   "cell_type": "markdown",
   "id": "0143ad5c",
   "metadata": {},
   "source": [
    "En este notebook se elaboran modelos para la comparativa de los subsets. Se ha seleccionado como base para la comparativa un GLM4, teniendo un input distinto segun el subconjunto de variables seleccionado.\n",
    "Los resultados de la comparación se encuentran en el notebook \"BoxplotMetricasYComparación\""
   ]
  },
  {
   "cell_type": "markdown",
   "id": "9314bb95",
   "metadata": {},
   "source": [
    "- Cargamos las librerias necesarias para la elaboracion del notebook."
   ]
  },
  {
   "cell_type": "code",
   "execution_count": null,
   "id": "5d1f4c69",
   "metadata": {},
   "outputs": [],
   "source": [
    "library(loadeR)\n",
    "library(magrittr)\n",
    "require(transformeR)\n",
    "require(downscaleR)\n",
    "require(visualizeR)\n",
    "require(climate4R.value)\n",
    "require(downscaleR.keras)\n",
    "library(ggplot2)"
   ]
  },
  {
   "cell_type": "markdown",
   "id": "dbbfa762",
   "metadata": {},
   "source": [
    "- Cargamos las variables dependientes e independientes"
   ]
  },
  {
   "cell_type": "code",
   "execution_count": null,
   "id": "77fbc098",
   "metadata": {},
   "outputs": [],
   "source": [
    "y <- load('Data/y_sam.rda') %>% get()\n",
    "x <- load('Data/x_SAM.rda') %>% get()"
   ]
  },
  {
   "cell_type": "markdown",
   "id": "58678ce6",
   "metadata": {},
   "source": [
    "### Primer subconjunto de variables"
   ]
  },
  {
   "cell_type": "markdown",
   "id": "9383d009",
   "metadata": {},
   "source": [
    "- Genero el primero de los subconjuntos con 6 variables."
   ]
  },
  {
   "cell_type": "code",
   "execution_count": null,
   "id": "81884d27",
   "metadata": {},
   "outputs": [],
   "source": [
    "var.list.min <- c('ta@500',\n",
    "               'ta@700',\n",
    "               'ta@850',\n",
    "               'z@700',\n",
    "               'z@850',\n",
    "               'z@500')\n",
    "\n",
    "grid.list <- lapply(var.list.min, function(x){\n",
    "    loadGridData(dataset = \"path_to_VALUE_ERA-INTERIM_data\",#http://www.value-cost.eu/data\n",
    "                 var = x,\n",
    "                 # lonLim = c(8,32),\n",
    "                 # latLim = c(38,42),\n",
    "                 years = 1979:2008)\n",
    "    }\n",
    ")\n",
    "x.min <- makeMultiGrid(grid.list)"
   ]
  },
  {
   "cell_type": "markdown",
   "id": "bc8d914a",
   "metadata": {},
   "source": [
    "- Indico el numero de folds y su longitud."
   ]
  },
  {
   "cell_type": "code",
   "execution_count": null,
   "id": "eb7b1e33",
   "metadata": {},
   "outputs": [],
   "source": [
    "folds <- list(1979:1989, 1990:1999, 2000:2008)"
   ]
  },
  {
   "cell_type": "markdown",
   "id": "c69cc48c",
   "metadata": {},
   "source": [
    "- Seleciono los parametros de estandarizacion de variables."
   ]
  },
  {
   "cell_type": "code",
   "execution_count": null,
   "id": "e6e4951b",
   "metadata": {},
   "outputs": [],
   "source": [
    "scaling.pars <- list(type = \"standardize\",\n",
    "                    spatial.frame = \"gridbox\")"
   ]
  },
  {
   "cell_type": "code",
   "execution_count": null,
   "id": "ca46e393",
   "metadata": {},
   "outputs": [],
   "source": [
    "scaleGrid.args = scaling.pars"
   ]
  },
  {
   "cell_type": "markdown",
   "id": "6bb269eb",
   "metadata": {},
   "source": [
    "- Seleciono el numero de vecinos cercanos."
   ]
  },
  {
   "cell_type": "code",
   "execution_count": null,
   "id": "d488d0e6",
   "metadata": {},
   "outputs": [],
   "source": [
    "local.pars.M4 <- list(n=4, vars=var.list.min)"
   ]
  },
  {
   "cell_type": "markdown",
   "id": "8e241ebc",
   "metadata": {},
   "source": [
    "- Generamos el modelo de cross-validacion GLM4_lite y lo guardamos. "
   ]
  },
  {
   "cell_type": "code",
   "execution_count": null,
   "id": "6195474a",
   "metadata": {},
   "outputs": [],
   "source": [
    "GLM4Lite <- downscaleCV(x = .min, y = y, method=\"GLM\",\n",
    "                   family=gaussian(link = \"identity\"),\n",
    "                   folds=folds,\n",
    "                   scaleGrid.args = scaling.pars,\n",
    "                   prepareData.args = list(global.vars = NULL,\n",
    "                                          local.predictors= local.pars.M4,\n",
    "                                          sparial.predictors= NULL))"
   ]
  },
  {
   "cell_type": "markdown",
   "id": "617e5925",
   "metadata": {},
   "source": [
    "### Segundo subconjunto de variables"
   ]
  },
  {
   "cell_type": "markdown",
   "id": "affdac2c",
   "metadata": {},
   "source": [
    "- Genero el segundo de los subconjuntos con 8 variables."
   ]
  },
  {
   "cell_type": "code",
   "execution_count": null,
   "id": "ecd92a73",
   "metadata": {},
   "outputs": [],
   "source": [
    "var.list <- c('ta@500',\n",
    "              'ta@700',\n",
    "              'ta@850',\n",
    "              'z@700',\n",
    "              'z@850',\n",
    "              'z@500',\n",
    "              'ua@850',\n",
    "              'va@850')\n",
    "grid.list <- lapply(var.list, function(x){\n",
    "    loadGridData(dataset = \"path_to_VALUE_ERA-INTERIM_data\",#http://www.value-cost.eu/data,\n",
    "                 var = x,\n",
    "                 # lonLim = c(8,32),\n",
    "                 # latLim = c(38,42),\n",
    "                 years = 1979:2008)\n",
    "    }\n",
    ")\n",
    "x <- makeMultiGrid(grid.list)"
   ]
  },
  {
   "cell_type": "markdown",
   "id": "ca533879",
   "metadata": {},
   "source": [
    "- Generamos el modelo de cross-validacion GLM4 ."
   ]
  },
  {
   "cell_type": "code",
   "execution_count": null,
   "id": "07f03a68",
   "metadata": {},
   "outputs": [],
   "source": [
    "GLM4cv <- downscaleCV(x = x, y = y, method=\"GLM\",\n",
    "                   family=gaussian(link = \"identity\"),\n",
    "                   folds=folds,\n",
    "                   scaleGrid.args = scaling.pars,\n",
    "                   prepareData.args = list(global.vars = NULL,\n",
    "                                          local.predictors= local.pars.M4,\n",
    "                                          sparial.predictors= NULL))\n"
   ]
  },
  {
   "cell_type": "markdown",
   "id": "3ab7c923",
   "metadata": {},
   "source": [
    "### Tercer subset de predictores"
   ]
  },
  {
   "cell_type": "markdown",
   "id": "3231de4d",
   "metadata": {},
   "source": [
    "- Genero el tercero de los subconjuntos con 20 variables."
   ]
  },
  {
   "cell_type": "code",
   "execution_count": null,
   "id": "5d54cdc4",
   "metadata": {},
   "outputs": [],
   "source": [
    "var.list.plus <- c('hus@500',\n",
    "                   'hus@700',\n",
    "                   'hus@850',\n",
    "                   'hus@1000',\n",
    "                   'ta@500',\n",
    "                   'ta@700',\n",
    "                   'ta@850',\n",
    "                   'ta@1000',\n",
    "                   'ua@500',\n",
    "                   'ua@700',\n",
    "                   'ua@850',\n",
    "                   'ua@1000',\n",
    "                   'va@500',\n",
    "                   'va@700',\n",
    "                   'va@850',\n",
    "                   'va@1000',\n",
    "                   'z@500',\n",
    "                   'z@700',\n",
    "                   'z@850',\n",
    "                   'z@1000')\n",
    "grid.list <- lapply(var.list.plus, function(x){\n",
    "    loadGridData(dataset = \"path_to_VALUE_ERA-INTERIM_data\",#http://www.value-cost.eu/data,\n",
    "                 var = x.plus,\n",
    "                 # lonLim = c(8,32),\n",
    "                 # latLim = c(38,42),\n",
    "                 years = 1979:2008)\n",
    "    }\n",
    ")\n",
    "x.plus <- makeMultiGrid(grid.list)"
   ]
  },
  {
   "cell_type": "markdown",
   "id": "5ba7f623",
   "metadata": {},
   "source": [
    "- Generamos el modelo de cross-validacion GLM4plus."
   ]
  },
  {
   "cell_type": "code",
   "execution_count": null,
   "id": "a283104c",
   "metadata": {},
   "outputs": [],
   "source": [
    "GLM4plus <- downscaleCV(x = x.plus, y = y, method=\"GLM\",\n",
    "                   family=gaussian(link = \"identity\"),\n",
    "                   folds=folds,\n",
    "                   scaleGrid.args = scaling.pars,\n",
    "                   prepareData.args = list(global.vars = NULL,\n",
    "                                          local.predictors= local.pars.M4,\n",
    "                                          sparial.predictors= NULL))"
   ]
  }
 ],
 "metadata": {
  "kernelspec": {
   "display_name": "R",
   "language": "R",
   "name": "ir"
  },
  "language_info": {
   "codemirror_mode": "r",
   "file_extension": ".r",
   "mimetype": "text/x-r-source",
   "name": "R",
   "pygments_lexer": "r",
   "version": "3.6.3"
  }
 },
 "nbformat": 4,
 "nbformat_minor": 5
}
