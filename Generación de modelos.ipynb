{
 "cells": [
  {
   "cell_type": "markdown",
   "id": "a65627b5",
   "metadata": {},
   "source": [
    "# Generacion de los metodos de downscaling estadistico "
   ]
  },
  {
   "cell_type": "markdown",
   "id": "c53ed698",
   "metadata": {},
   "source": [
    "A contunuación se expondra todo el proceso llevado acabo para la elaboración del downscaling estadístico para la region de América del Sur. Usaremos el Subset numero 2 que es el que hemo decidido usar por que es el mejor en cuanto a su reproductividad local."
   ]
  },
  {
   "cell_type": "markdown",
   "id": "bf7eea1f",
   "metadata": {},
   "source": [
    "### Importamos las librerias que utilizaremos "
   ]
  },
  {
   "cell_type": "code",
   "execution_count": 1,
   "id": "681fa6c9",
   "metadata": {},
   "outputs": [
    {
     "name": "stderr",
     "output_type": "stream",
     "text": [
      "Loading required package: rJava\n",
      "\n",
      "Loading required package: loadeR.java\n",
      "\n",
      "Java version 11x amd64 by Oracle Corporation detected\n",
      "\n",
      "NetCDF Java Library v4.6.0-SNAPSHOT (23 Apr 2015) loaded and ready\n",
      "\n",
      "Loading required package: climate4R.UDG\n",
      "\n",
      "climate4R.UDG version 0.2.3 (2021-07-05) is loaded\n",
      "\n",
      "WARNING: Your current version of climate4R.UDG (v0.2.3) is not up-to-date\n",
      "\n",
      "Get the latest stable version (0.2.4) using <devtools::install_github('SantanderMetGroup/climate4R.UDG')>\n",
      "\n",
      "Please use 'citation(\"climate4R.UDG\")' to cite this package.\n",
      "\n",
      "loadeR version 1.7.0 (2020-09-18) is loaded\n",
      "\n",
      "WARNING: Your current version of loadeR (v1.7.0) is not up-to-date\n",
      "\n",
      "Get the latest stable version (1.7.1) using <devtools::install_github(c('SantanderMetGroup/climate4R.UDG','SantanderMetGroup/loadeR'))>\n",
      "\n",
      "Please use 'citation(\"loadeR\")' to cite this package.\n",
      "\n",
      "Loading required package: transformeR\n",
      "\n"
     ]
    },
    {
     "name": "stdout",
     "output_type": "stream",
     "text": [
      "\n",
      "    _______   ____  ___________________  __  ________ \n",
      "   / ___/ /  / /  |/  / __  /_  __/ __/ / / / / __  / \n",
      "  / /  / /  / / /|_/ / /_/ / / / / __/ / /_/ / /_/_/  \n",
      " / /__/ /__/ / /  / / __  / / / / /__ /___  / / \\ \\ \n",
      " \\___/____/_/_/  /_/_/ /_/ /_/  \\___/    /_/\\/   \\_\\ \n",
      " \n",
      "      github.com/SantanderMetGroup/climate4R\n",
      "\n"
     ]
    },
    {
     "name": "stderr",
     "output_type": "stream",
     "text": [
      "transformeR version 2.1.3 (2021-08-04) is loaded\n",
      "\n",
      "WARNING: Your current version of transformeR (v2.1.3) is not up-to-date\n",
      "\n",
      "Get the latest stable version (2.1.4) using <devtools::install_github('SantanderMetGroup/transformeR')>\n",
      "\n",
      "Please see 'citation(\"transformeR\")' to cite this package.\n",
      "\n",
      "Loading required package: downscaleR\n",
      "\n",
      "downscaleR version 3.3.3 (2021-07-05) is loaded\n",
      "\n",
      "Please use 'citation(\"downscaleR\")' to cite this package.\n",
      "\n",
      "Loading required package: visualizeR\n",
      "\n",
      "Warning message:\n",
      "“no DISPLAY variable so Tk is not available”\n",
      "visualizeR version 1.6.1 (2021-03-11) is loaded\n",
      "\n",
      "Please see 'citation(\"visualizeR\")' to cite this package.\n",
      "\n",
      "Loading required package: climate4R.value\n",
      "\n",
      "Loading required package: VALUE\n",
      "\n",
      "---------------------------------------------- \n",
      "| VALUE version 2.2.2 (2021-08-18) is loaded |\n",
      "|         http://www.value-cost.eu           |\n",
      "----------------------------------------------\n",
      "\n",
      "Loading required package: downscaleR.keras\n",
      "\n",
      "Loading required package: keras\n",
      "\n",
      "Loading required package: tensorflow\n",
      "\n"
     ]
    }
   ],
   "source": [
    "library(loadeR)\n",
    "library(magrittr)\n",
    "require(transformeR)\n",
    "require(downscaleR)\n",
    "require(visualizeR)\n",
    "require(climate4R.value)\n",
    "require(downscaleR.keras)\n",
    "library(ggplot2)"
   ]
  },
  {
   "cell_type": "markdown",
   "id": "04837dc0",
   "metadata": {},
   "source": [
    "- Definimos las variables independientes. "
   ]
  },
  {
   "cell_type": "code",
   "execution_count": null,
   "id": "aa417842",
   "metadata": {},
   "outputs": [],
   "source": [
    "var.list <- c('ta@500',\n",
    "              'ta@700',\n",
    "              'ta@850',\n",
    "              'z@700',\n",
    "              'z@850',\n",
    "              'z@500',\n",
    "              'ua@850',\n",
    "              'va@850')"
   ]
  },
  {
   "cell_type": "markdown",
   "id": "e603329c",
   "metadata": {},
   "source": [
    "- Importamos dichas variables y generamos un archivo con ellas."
   ]
  },
  {
   "cell_type": "code",
   "execution_count": null,
   "id": "03406f60",
   "metadata": {},
   "outputs": [],
   "source": [
    "grid.list <- lapply(var.list, function(x){\n",
    "    loadGridData(dataset = \"path_to_VALUE_ERA-INTERIM_data\",#http://www.value-cost.eu/data\n",
    "                 var = x,\n",
    "                 # lonLim = c(8,32),\n",
    "                 # latLim = c(38,42),\n",
    "                 years = 1979:2008)\n",
    "    }\n",
    ")\n",
    "x <- makeMultiGrid(grid.list)"
   ]
  },
  {
   "cell_type": "code",
   "execution_count": null,
   "id": "ca1d4c71",
   "metadata": {},
   "outputs": [],
   "source": [
    "y <- loadStationData(dataset = \"path_to_VALUE_station_data\",#http://www.value-cost.eu/data\n",
    "                 var = \"tasmax\",\n",
    "                 # lonLim = c(8,32),\n",
    "                 # latLim = c(38,42),\n",
    "                 years = 1979:2008)\n",
    "    \n"
   ]
  },
  {
   "cell_type": "markdown",
   "id": "d28bba3a",
   "metadata": {},
   "source": [
    "### Modelos lineales generalizados"
   ]
  },
  {
   "cell_type": "markdown",
   "id": "8a8daa66",
   "metadata": {},
   "source": [
    "Comenzaremos con 3 GLMs, dependiendo de los vecinos cercanos que se seleccionen. En este caso se han selecionado 3 escenarios distintos, 1 vecino cercano (GLM_1), 4 vecinos cercanos (GLM_4), 16 vecinos cercanos (GLM_16). "
   ]
  },
  {
   "cell_type": "markdown",
   "id": "d03eaf9d",
   "metadata": {},
   "source": [
    "- Definimos los folds "
   ]
  },
  {
   "cell_type": "code",
   "execution_count": null,
   "id": "bbc5c646",
   "metadata": {},
   "outputs": [],
   "source": [
    "folds <- list(1979:1989, 1990:1999, 2000:2008)"
   ]
  },
  {
   "cell_type": "markdown",
   "id": "a89d816c",
   "metadata": {},
   "source": [
    "- Estandarizamos las variables"
   ]
  },
  {
   "cell_type": "code",
   "execution_count": null,
   "id": "6e54693c",
   "metadata": {},
   "outputs": [],
   "source": [
    "scaling.pars <- list(type = \"standardize\",\n",
    "                    spatial.frame = \"gridbox\")"
   ]
  },
  {
   "cell_type": "code",
   "execution_count": null,
   "id": "1c5ba9d5",
   "metadata": {},
   "outputs": [],
   "source": [
    "scaleGrid.args = scaling.pars"
   ]
  },
  {
   "cell_type": "markdown",
   "id": "bd5bb6c0",
   "metadata": {},
   "source": [
    "#### GLM1"
   ]
  },
  {
   "cell_type": "markdown",
   "id": "d02b1014",
   "metadata": {},
   "source": [
    "- La funcion local.pars.M1 te permite selecionar los vecinos cercanos, en nuetro casi 1"
   ]
  },
  {
   "cell_type": "code",
   "execution_count": null,
   "id": "3721f8c8",
   "metadata": {},
   "outputs": [],
   "source": [
    "local.pars.M1 <- list(n=1, vars=var.list)"
   ]
  },
  {
   "cell_type": "markdown",
   "id": "d276d4b2",
   "metadata": {},
   "source": [
    "- Generamos la cross-validacion del modelo "
   ]
  },
  {
   "cell_type": "code",
   "execution_count": null,
   "id": "91a71e8c",
   "metadata": {},
   "outputs": [],
   "source": [
    "GLM1cv <- downscaleCV(x = x, y = y, method=\"GLM\",\n",
    "                   family=gaussian(link = \"identity\"),\n",
    "                   folds=folds,\n",
    "                   scaleGrid.args = scaling.pars,\n",
    "                   prepareData.args = list(global.vars = NULL,\n",
    "                                          local.predictors= local.pars.M1,\n",
    "                                          spatial.predictors= NULL))"
   ]
  },
  {
   "cell_type": "markdown",
   "id": "4c06ee8c",
   "metadata": {},
   "source": [
    "#### GLM4"
   ]
  },
  {
   "cell_type": "markdown",
   "id": "c5f852d4",
   "metadata": {},
   "source": [
    "- Seguimos los mismos pasos que en GLM1 pero ahora con 4 vecinos cercanos "
   ]
  },
  {
   "cell_type": "code",
   "execution_count": null,
   "id": "7a0d0d83",
   "metadata": {},
   "outputs": [],
   "source": [
    "local.pars.M4 <- list(n=4, vars=var.list)"
   ]
  },
  {
   "cell_type": "code",
   "execution_count": null,
   "id": "dc3f5143",
   "metadata": {},
   "outputs": [],
   "source": [
    "GLM4cv <- downscaleCV(x = x, y = y, method=\"GLM\",\n",
    "                   family=gaussian(link = \"identity\"),\n",
    "                   folds=folds,\n",
    "                   scaleGrid.args = scaling.pars,\n",
    "                   prepareData.args = list(global.vars = NULL,\n",
    "                                          local.predictors= local.pars.M4,\n",
    "                                          sparial.predictors= NULL))"
   ]
  },
  {
   "cell_type": "markdown",
   "id": "43b2a6ba",
   "metadata": {},
   "source": [
    "#### GLM16"
   ]
  },
  {
   "cell_type": "markdown",
   "id": "8a9574d5",
   "metadata": {},
   "source": [
    "- Generamos el GLM para 16 vecinos cercanos"
   ]
  },
  {
   "cell_type": "code",
   "execution_count": null,
   "id": "ff2afc5d",
   "metadata": {},
   "outputs": [],
   "source": [
    "local.pars.M16 <- list(n=16, vars=var.list)"
   ]
  },
  {
   "cell_type": "code",
   "execution_count": null,
   "id": "81f99c1e",
   "metadata": {},
   "outputs": [],
   "source": [
    "GLM16cv <- downscaleCV(x = x, y = y, method=\"GLM\",\n",
    "                   family=gaussian(link = \"identity\"),\n",
    "                   folds=folds,\n",
    "                   scaleGrid.args = scaling.pars,\n",
    "                   prepareData.args = list(global.vars = NULL,\n",
    "                                          local.predictors= local.pars.M16,\n",
    "                                          sparial.predictors= NULL))"
   ]
  },
  {
   "cell_type": "markdown",
   "id": "9fe3d979",
   "metadata": {},
   "source": [
    "- Para comprobar que los modelos estan bien generados realizaremos una representacion grafica para ver realmente es asi"
   ]
  },
  {
   "cell_type": "markdown",
   "id": "53faef6e",
   "metadata": {},
   "source": [
    "- Definimos la funcion que agregara los parametros mediante la media."
   ]
  },
  {
   "cell_type": "code",
   "execution_count": null,
   "id": "97f23cce",
   "metadata": {},
   "outputs": [],
   "source": [
    "aggr.pars <- list(FUN = \"mean\", na.rm=TRUE)"
   ]
  },
  {
   "cell_type": "markdown",
   "id": "af3a294e",
   "metadata": {},
   "source": [
    "- Agregamos los datos del GLM1cv mensualmente "
   ]
  },
  {
   "cell_type": "code",
   "execution_count": null,
   "id": "776f2f0c",
   "metadata": {},
   "outputs": [],
   "source": [
    "pred.GLM1 <- aggregateGrid(GLM1cv, aggr.m= aggr.pars)"
   ]
  },
  {
   "cell_type": "markdown",
   "id": "bbef3d42",
   "metadata": {},
   "source": [
    "- Agregamos los datos de las observacion mensualmente"
   ]
  },
  {
   "cell_type": "code",
   "execution_count": null,
   "id": "638ce2e4",
   "metadata": {},
   "outputs": [],
   "source": [
    "obs <- aggregateGrid(y, aggr.m= aggr.pars)"
   ]
  },
  {
   "cell_type": "markdown",
   "id": "085037a4",
   "metadata": {},
   "source": [
    "- Con la funcion temporalPlot representamos la observacion y la prediccion. "
   ]
  },
  {
   "cell_type": "code",
   "execution_count": null,
   "id": "c11a2240",
   "metadata": {},
   "outputs": [],
   "source": [
    "temporalPlot(pred.M1, obs,lwd=0.9,\n",
    "            xyplot.custom = list(xlab = \"año\",\n",
    "                                ylab = \"temp\",\n",
    "                                scale = list(cex =1,\n",
    "                                            x = list(rot=0))))"
   ]
  },
  {
   "cell_type": "markdown",
   "id": "65527727",
   "metadata": {},
   "source": [
    "Observamos que si hay una correlacion entre las observaciones y las predicciones, por lo que el modelo esta bien generado."
   ]
  },
  {
   "cell_type": "markdown",
   "id": "91d60138",
   "metadata": {},
   "source": [
    "#### Redes Neuronales"
   ]
  },
  {
   "cell_type": "markdown",
   "id": "39b9ce4a",
   "metadata": {},
   "source": [
    "Una vez tenemos generados todos los GLMs realizaremos el mismo proceso pero en este caso seran 3 redes neuronales, las cuales tambien obtendran informacion de 1,4,16 vecinos cercanos respectivamente. Por ultimo, acabaremos con una red neuronal convolucinal."
   ]
  },
  {
   "cell_type": "markdown",
   "id": "ac597684",
   "metadata": {},
   "source": [
    "#### NN1 "
   ]
  },
  {
   "cell_type": "code",
   "execution_count": null,
   "id": "eab8f4f5",
   "metadata": {},
   "outputs": [],
   "source": [
    "pred <- lapply(1:getShape(y,\"loc\"),FUN = function(z) {\n",
    "  y <- subsetGrid(y, station.id = y$Metadata$station_id[z]) %>% redim(member = FALSE, loc = TRUE)\n",
    "  l0 <- layer_input(shape = 8) \n",
    "  l1 <- layer_dense(l0, units = 50, activation = \"relu\")\n",
    "  l2 <- layer_dense(l1, units = 50, activation = \"relu\")  \n",
    "  l3 <- layer_dense(l2, units = 1, activation = 'linear')\n",
    "  \n",
    "  model <- keras_model(inputs = l0, outputs = l3)\n",
    "  pred <- downscaleCV.keras(x,y,model,\n",
    "                            folds = folds,\n",
    "                            prepareData.keras.args = list(first.connection = \"dense\", last.connection = \"dense\", channels = \"last\",local.predictors= local.pars.M1),\n",
    "                            compile.args = list(loss = \"mse\", optimizer = optimizer_adam(lr = 0.001)),\n",
    "                            scaleGrid.args = list(\"type\" = \"standardize\"),\n",
    "                            loss = \"mse\",\n",
    "                            fit.args = list(batch_size = 100, epochs = 10000, validation_split = 0.1,verbose = 1,\n",
    "                                            callbacks = list(callback_early_stopping(patience = 30))))\n",
    "  k_clear_session(); rm(model)\n",
    "  return(pred)\n",
    "}) %>% bindGrid(dimension = \"loc\")    \n",
    "nnss1 <- subsetGrid(pred, var = \"tmax\")\n",
    "save(nnss1, file = \"nn-ss1.rda\")"
   ]
  },
  {
   "cell_type": "markdown",
   "id": "bad4f9b3",
   "metadata": {},
   "source": [
    "#### NN4"
   ]
  },
  {
   "cell_type": "code",
   "execution_count": null,
   "id": "2b1a715b",
   "metadata": {},
   "outputs": [],
   "source": [
    "pred <- lapply(1:getShape(y,\"loc\"),FUN = function(z) {\n",
    "  y <- subsetGrid(y, station.id = y$Metadata$station_id[z]) %>% redim(member = FALSE, loc = TRUE)\n",
    "  l0 <- layer_input(shape = 32) \n",
    "  l1 <- layer_dense(l0, units = 50, activation = \"relu\")\n",
    "  l2 <- layer_dense(l1, units = 50, activation = \"relu\")  \n",
    "  l3 <- layer_dense(l2, units = 1, activation = 'linear')\n",
    "  \n",
    "  model <- keras_model(inputs = l0, outputs = l3)\n",
    "  pred <- downscaleCV.keras(x,y,model,\n",
    "                            folds = folds,\n",
    "                            prepareData.keras.args = list(first.connection = \"dense\", last.connection = \"dense\", channels = \"last\",local.predictors= local.pars.M4),\n",
    "                            compile.args = list(loss = \"mse\", optimizer = optimizer_adam(lr = 0.001)),\n",
    "                            scaleGrid.args = list(\"type\" = \"standardize\"),\n",
    "                            loss = \"mse\",\n",
    "                            fit.args = list(batch_size = 100, epochs = 10000, validation_split = 0.1,verbose = 1,\n",
    "                                            callbacks = list(callback_early_stopping(patience = 30))))\n",
    "  k_clear_session(); rm(model)\n",
    "  return(pred)\n",
    "}) %>% bindGrid(dimension = \"loc\")    \n",
    "nnss4 <- subsetGrid(pred, var = \"tmax\")\n",
    "save(nnss4, file = \"nn-ss4.rda\")"
   ]
  },
  {
   "cell_type": "markdown",
   "id": "795b9ef4",
   "metadata": {},
   "source": [
    "#### NN16"
   ]
  },
  {
   "cell_type": "code",
   "execution_count": null,
   "id": "f6feeccc",
   "metadata": {},
   "outputs": [],
   "source": [
    "pred <- lapply(1:getShape(y,\"loc\"),FUN = function(z) {\n",
    "  y <- subsetGrid(y, station.id = y$Metadata$station_id[z]) %>% redim(member = FALSE, loc = TRUE)\n",
    "  l0 <- layer_input(shape = 96) \n",
    "  l1 <- layer_dense(l0, units = 50, activation = \"relu\")\n",
    "  l2 <- layer_dense(l1, units = 50, activation = \"relu\")  \n",
    "  l3 <- layer_dense(l2, units = 1, activation = 'linear')\n",
    "  \n",
    "  model <- keras_model(inputs = l0, outputs = l3)\n",
    "  pred <- downscaleCV.keras(x,y,model,\n",
    "                            folds = folds,\n",
    "                            prepareData.keras.args = list(first.connection = \"dense\", last.connection = \"dense\", channels = \"last\",local.predictors= local.pars.M16),\n",
    "                            compile.args = list(loss = \"mse\", optimizer = optimizer_adam(lr = 0.001)),\n",
    "                            scaleGrid.args = list(\"type\" = \"standardize\"),\n",
    "                            loss = \"mse\",\n",
    "                            fit.args = list(batch_size = 100, epochs = 10000, validation_split = 0.1,verbose = 1,\n",
    "                                            callbacks = list(callback_early_stopping(patience = 30))))\n",
    "  k_clear_session(); rm(model)\n",
    "  return(pred)\n",
    "}) %>% bindGrid(dimension = \"loc\")    \n",
    "nnss16 <- subsetGrid(pred, var = \"tmax\")\n",
    "save(nnss16, file = \"nn-ss16.rda\")"
   ]
  },
  {
   "cell_type": "markdown",
   "id": "c8cd4555",
   "metadata": {},
   "source": [
    "#### CNN"
   ]
  },
  {
   "cell_type": "markdown",
   "id": "4a160ac5",
   "metadata": {},
   "source": [
    "- A continuacion creamos la red convolucional."
   ]
  },
  {
   "cell_type": "code",
   "execution_count": null,
   "id": "f02e2e6e",
   "metadata": {},
   "outputs": [],
   "source": [
    "pred <- lapply(1:getShape(y,\"loc\"),FUN = function(z) {\n",
    "  y <- subsetGrid(y, station.id = y$Metadata$station_id[z]) %>% redim(member = FALSE, loc = TRUE)\n",
    "  l0 <- layer_input(shape = c(getShape(x,\"lat\"),getShape(x,\"lon\"),getShape(x,\"var\")))\n",
    "  l1 <- layer_conv_2d(l0 ,filters = 50, kernel_size = c(3,3), activation = 'relu', padding = \"same\")\n",
    "  l2 <- layer_conv_2d(l1,filters = 25, kernel_size = c(3,3), activation = 'relu', padding = \"same\")\n",
    "  l3 <- layer_conv_2d(l2,filters = 10, kernel_size = c(3,3), activation = 'relu', padding = \"same\")\n",
    "  l4 <- layer_flatten(l3)    \n",
    "  l5 <- layer_dense(l4, units = 1, activation = 'linear')\n",
    "  \n",
    "  model <- keras_model(inputs = l0, outputs = l5)\n",
    "  pred <- downscaleCV.keras(x,y,model,\n",
    "                            folds = folds,\n",
    "                            prepareData.keras.args = list(first.connection = \"conv\", last.connection = \"dense\", channels = \"last\"),\n",
    "                            compile.args = list(loss = \"mse\", optimizer = optimizer_adam(lr = 0.001)),\n",
    "                            scaleGrid.args = list(\"type\" = \"standardize\"),\n",
    "                            loss = \"mse\",\n",
    "                            fit.args = list(batch_size = 100, epochs = 10000, validation_split = 0.1,verbose = 1,\n",
    "                                            callbacks = list(callback_early_stopping(patience = 30))))\n",
    "\n",
    "  k_clear_session(); rm(model)\n",
    "  return(pred)\n",
    "}) %>% bindGrid(dimension = \"loc\")    \n",
    "cnnss <- subsetGrid(pred, var = \"tmax\")\n",
    "save(cnnss, file = \"cnn-ss.rda\")"
   ]
  },
  {
   "cell_type": "markdown",
   "id": "08a25528",
   "metadata": {},
   "source": [
    "### Analogos"
   ]
  },
  {
   "cell_type": "markdown",
   "id": "3f494464",
   "metadata": {},
   "source": [
    "- Creamo el modelo de analogos."
   ]
  },
  {
   "cell_type": "code",
   "execution_count": null,
   "id": "4fc5cf40",
   "metadata": {},
   "outputs": [],
   "source": [
    "Analogoscv <- downscaleCV(x = x, y = y, method=\"analogs\",\n",
    "                   folds=folds,\n",
    "                   scaleGrid.args = scaling.pars,\n",
    "                   prepareData.args = list(global.vars = NULL,\n",
    "                                          \n",
    "                                          sparial.predictors= NULL))"
   ]
  }
 ],
 "metadata": {
  "kernelspec": {
   "display_name": "R",
   "language": "R",
   "name": "ir"
  },
  "language_info": {
   "codemirror_mode": "r",
   "file_extension": ".r",
   "mimetype": "text/x-r-source",
   "name": "R",
   "pygments_lexer": "r",
   "version": "3.6.3"
  }
 },
 "nbformat": 4,
 "nbformat_minor": 5
}
